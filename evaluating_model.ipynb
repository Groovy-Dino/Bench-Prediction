{
 "cells": [
  {
   "cell_type": "markdown",
   "id": "277e20f3",
   "metadata": {},
   "source": [
    "INTENTION: <br>\n",
    "-  Find R^2 scores for all the models\n",
    "-  Find the best parameters for the highest scoring model.\n",
    "- Rescore the model with the best parameters"
   ]
  },
  {
   "cell_type": "code",
   "execution_count": 1,
   "id": "6f8e1e9d",
   "metadata": {},
   "outputs": [],
   "source": [
    "import joblib\n",
    "import pandas as pd\n",
    "from sklearn.model_selection import train_test_split\n",
    "from sklearn.preprocessing import StandardScaler\n",
    "Reg_All_Features = joblib.load('Reg_All_Features.joblib')\n",
    "Reg_Squat_Dead = joblib.load('Reg_Squat_Dead.joblib')\n",
    "KNN_BW_Squat_Dead = joblib.load('KNN_BW_Squat_Dead.joblib')\n",
    "Forest_Age_Squat_Dead = joblib.load('Forest_Age_Squat_Dead.joblib')\n",
    "Equipment_Squat_Dead = joblib.load('Equipment_Squat_Dead.joblib')\n"
   ]
  },
  {
   "cell_type": "code",
   "execution_count": 6,
   "id": "540ff344",
   "metadata": {},
   "outputs": [],
   "source": [
    "df = pd.read_csv('clean_pl_data.csv')\n",
    "#setting the last column (benech) as the target \n",
    "X, y = df.iloc[:, : -1], df.iloc[:, -1]\n",
    "\n",
    "#splitting data\n",
    "X_train, X_test, y_train, y_test = train_test_split(X, y, test_size=0.2, random_state=10)\n",
    "#scaling data\n",
    "\n",
    "scaler = StandardScaler()\n",
    "X_train_scaled = scaler.fit_transform(X_train)\n",
    "X_test_scaled = scaler.transform(X_test)\n"
   ]
  },
  {
   "cell_type": "code",
   "execution_count": 7,
   "id": "1849e7e4",
   "metadata": {},
   "outputs": [
    {
     "name": "stdout",
     "output_type": "stream",
     "text": [
      "[0.8700204564862428, 0.8595701356060687, 0.8482675087326711, 0.8543654438596274, 0.8441590689561489]\n"
     ]
    }
   ],
   "source": [
    "model_dict = {\n",
    "    '1' : Reg_All_Features,\n",
    "    '2' : Reg_Squat_Dead,\n",
    "    '3' : KNN_BW_Squat_Dead,\n",
    "    '4' : Forest_Age_Squat_Dead,\n",
    "    '5' : Equipment_Squat_Dead \n",
    "}\n",
    "\n",
    "\n",
    "\n",
    "\n",
    "def scoring(model_selection, X_train, y_train, X_test, y_test):\n",
    "    model = model_dict[model_selection]\n",
    "    X_test_df = pd.DataFrame(X_test, columns=['Sex', 'Equipment', 'Age', 'BodyweightKg', 'BestSquatKg', 'BestDeadliftKg'])\n",
    "\n",
    "    if model_selection == '1':\n",
    "        scaler = StandardScaler()\n",
    "        X_train_scaled = scaler.fit_transform(X_train, y_train)\n",
    "        X_test_scaled = scaler.transform(X_test)\n",
    "        model.fit(X_train_scaled, y_train)\n",
    "        return model.score(X_test_scaled, y_test)\n",
    "    \n",
    "    elif model_selection == '2':\n",
    "        X_train_subset = X_train[['Sex','BestSquatKg', 'BestDeadliftKg']]\n",
    "        X_test_subset = X_test_df[['Sex','BestSquatKg', 'BestDeadliftKg']]\n",
    "        model.fit(X_train_subset, y_train)\n",
    "        return model.score(X_test_subset, y_test)\n",
    "    \n",
    "    elif model_selection == '3':\n",
    "        X_train_subset = X_train[['Sex','BodyweightKg','BestSquatKg', 'BestDeadliftKg']]\n",
    "        X_test_subset = X_test_df[['Sex','BodyweightKg','BestSquatKg', 'BestDeadliftKg']]\n",
    "        model.fit(X_train_subset, y_train)\n",
    "        return model.score(X_test_subset, y_test)\n",
    "    \n",
    "    elif model_selection == '4':\n",
    "        X_train_subset = X_train[['Sex','Age','BestSquatKg', 'BestDeadliftKg']]\n",
    "        X_test_subset = X_test_df[['Sex','Age','BestSquatKg', 'BestDeadliftKg']]\n",
    "        model.fit(X_train_subset, y_train)\n",
    "        return model.score(X_test_subset, y_test)\n",
    "    \n",
    "    elif model_selection == '5':\n",
    "        X_train_subset = X_train[['Sex','Equipment','BestSquatKg', 'BestDeadliftKg']]\n",
    "        X_test_subset = X_test_df[['Sex','Equipment','BestSquatKg', 'BestDeadliftKg']]\n",
    "        model.fit(X_train_subset, y_train)\n",
    "        return model.score(X_test_subset, y_test)   \n",
    "    \n",
    "\n",
    "scores = [scoring(model_selection, X_train.copy(), y_train.copy(), X_test.copy(), y_test.copy()) for model_selection in ['1','2', '3', '4', '5']]\n",
    "print(scores)"
   ]
  },
  {
   "cell_type": "markdown",
   "id": "21fe75e2",
   "metadata": {},
   "source": [
    "The first model scored the highest in this case, below is finding the best scoring model for the general case."
   ]
  },
  {
   "cell_type": "code",
   "execution_count": 8,
   "id": "d9934928",
   "metadata": {},
   "outputs": [],
   "source": [
    "import numpy as np\n",
    "best_model_index = str(np.argmax(scores) + 1)\n",
    "best_model = model_dict[best_model_index]"
   ]
  },
  {
   "cell_type": "code",
   "execution_count": 9,
   "id": "f298b882",
   "metadata": {},
   "outputs": [
    {
     "name": "stdout",
     "output_type": "stream",
     "text": [
      "0.8700204564862427\n"
     ]
    }
   ],
   "source": [
    "#LinearRegression for ALL features Evaluation\n",
    "\n",
    "#testing to find best parameters\n",
    "\n",
    "param_grid = {\n",
    "    'copy_X' : [False],\n",
    "    'tol' : [1e-10,1e-8,1e-7, 1e-5],\n",
    "    'n_jobs' : [1,2],\n",
    "    'positive' : [True]\n",
    "}\n",
    "\n",
    "from sklearn.model_selection import GridSearchCV\n",
    "\n",
    "grid = GridSearchCV(best_model, param_grid, cv=3)\n",
    "\n",
    "grid.fit(X_train_scaled, y_train)\n",
    "grid.best_params_\n",
    "new_score = grid.score(X_test_scaled, y_test)\n",
    "print(new_score)"
   ]
  },
  {
   "cell_type": "markdown",
   "id": "f13f3f44",
   "metadata": {},
   "source": [
    "Cross Validation"
   ]
  },
  {
   "cell_type": "code",
   "execution_count": 11,
   "id": "adb91bb8",
   "metadata": {},
   "outputs": [
    {
     "name": "stdout",
     "output_type": "stream",
     "text": [
      "[0.86686895 0.87503508 0.86906515 0.86864903 0.87153531]\n",
      "0.8702307023571434\n"
     ]
    }
   ],
   "source": [
    "from sklearn.model_selection import cross_val_score\n",
    "\n",
    "X_scaled = scaler.fit_transform(X)\n",
    "\n",
    "scores_cv = cross_val_score(best_model, X_scaled, y , cv=5) #5 folds\n",
    "print(scores_cv)\n",
    "print(np.mean(scores_cv))\n"
   ]
  },
  {
   "cell_type": "code",
   "execution_count": null,
   "id": "9f2085ba",
   "metadata": {},
   "outputs": [],
   "source": []
  }
 ],
 "metadata": {
  "kernelspec": {
   "display_name": "venv",
   "language": "python",
   "name": "python3"
  },
  "language_info": {
   "codemirror_mode": {
    "name": "ipython",
    "version": 3
   },
   "file_extension": ".py",
   "mimetype": "text/x-python",
   "name": "python",
   "nbconvert_exporter": "python",
   "pygments_lexer": "ipython3",
   "version": "3.13.5"
  }
 },
 "nbformat": 4,
 "nbformat_minor": 5
}
