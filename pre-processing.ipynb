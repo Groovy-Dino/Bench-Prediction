{
 "cells": [
  {
   "cell_type": "markdown",
   "id": "d44db05f",
   "metadata": {},
   "source": [
    "INTENTION: <br>\n",
    "Training different models with combinations fo features to predict the target (bench press).\n",
    "-  Fit Linear Regression Model for all features\n",
    "-  Fit Linear Regression model to sex, squat and deadlift features\n",
    "-  Fit KNN Regressor, adding bodyweight feature.\n",
    "-  Fit Random Forest Regressor model to sex, age, squat and deadlift features\n",
    "-  Fit Random Forest Regressor with sex, equipment, age, squat and deadlift features"
   ]
  },
  {
   "cell_type": "code",
   "execution_count": 16,
   "id": "30ae0840",
   "metadata": {},
   "outputs": [],
   "source": [
    "from sklearn.model_selection import train_test_split\n",
    "from sklearn.linear_model import LinearRegression\n",
    "from sklearn.preprocessing import StandardScaler\n",
    "import pandas as pd\n",
    "import joblib"
   ]
  },
  {
   "cell_type": "code",
   "execution_count": 17,
   "id": "6bc4a9fc",
   "metadata": {},
   "outputs": [
    {
     "data": {
      "text/html": [
       "<div>\n",
       "<style scoped>\n",
       "    .dataframe tbody tr th:only-of-type {\n",
       "        vertical-align: middle;\n",
       "    }\n",
       "\n",
       "    .dataframe tbody tr th {\n",
       "        vertical-align: top;\n",
       "    }\n",
       "\n",
       "    .dataframe thead th {\n",
       "        text-align: right;\n",
       "    }\n",
       "</style>\n",
       "<table border=\"1\" class=\"dataframe\">\n",
       "  <thead>\n",
       "    <tr style=\"text-align: right;\">\n",
       "      <th></th>\n",
       "      <th>Sex</th>\n",
       "      <th>Equipment</th>\n",
       "      <th>Age</th>\n",
       "      <th>BodyweightKg</th>\n",
       "      <th>BestSquatKg</th>\n",
       "      <th>BestDeadliftKg</th>\n",
       "      <th>BestBenchKg</th>\n",
       "    </tr>\n",
       "  </thead>\n",
       "  <tbody>\n",
       "    <tr>\n",
       "      <th>0</th>\n",
       "      <td>M</td>\n",
       "      <td>Raw</td>\n",
       "      <td>23.0</td>\n",
       "      <td>87.30</td>\n",
       "      <td>205</td>\n",
       "      <td>235.0</td>\n",
       "      <td>125.0</td>\n",
       "    </tr>\n",
       "    <tr>\n",
       "      <th>1</th>\n",
       "      <td>M</td>\n",
       "      <td>Wraps</td>\n",
       "      <td>23.0</td>\n",
       "      <td>73.48</td>\n",
       "      <td>220</td>\n",
       "      <td>260.0</td>\n",
       "      <td>157.5</td>\n",
       "    </tr>\n",
       "    <tr>\n",
       "      <th>2</th>\n",
       "      <td>M</td>\n",
       "      <td>Raw</td>\n",
       "      <td>26.0</td>\n",
       "      <td>112.40</td>\n",
       "      <td>142.5</td>\n",
       "      <td>220.0</td>\n",
       "      <td>145.0</td>\n",
       "    </tr>\n",
       "    <tr>\n",
       "      <th>3</th>\n",
       "      <td>F</td>\n",
       "      <td>Raw</td>\n",
       "      <td>35.0</td>\n",
       "      <td>59.42</td>\n",
       "      <td>95</td>\n",
       "      <td>102.5</td>\n",
       "      <td>60.0</td>\n",
       "    </tr>\n",
       "    <tr>\n",
       "      <th>4</th>\n",
       "      <td>F</td>\n",
       "      <td>Raw</td>\n",
       "      <td>26.5</td>\n",
       "      <td>61.40</td>\n",
       "      <td>105</td>\n",
       "      <td>127.5</td>\n",
       "      <td>60.0</td>\n",
       "    </tr>\n",
       "  </tbody>\n",
       "</table>\n",
       "</div>"
      ],
      "text/plain": [
       "  Sex Equipment   Age  BodyweightKg BestSquatKg  BestDeadliftKg  BestBenchKg\n",
       "0   M       Raw  23.0         87.30         205           235.0        125.0\n",
       "1   M     Wraps  23.0         73.48         220           260.0        157.5\n",
       "2   M       Raw  26.0        112.40       142.5           220.0        145.0\n",
       "3   F       Raw  35.0         59.42          95           102.5         60.0\n",
       "4   F       Raw  26.5         61.40         105           127.5         60.0"
      ]
     },
     "execution_count": 17,
     "metadata": {},
     "output_type": "execute_result"
    }
   ],
   "source": [
    "#loading data as data frame\n",
    "df = pd.read_csv(\"powerlifting.csv\")\n",
    "\n",
    "#getting rid of irrelevant freatures ('playerId' and 'Name')\n",
    "df = df.iloc[:, 2: ]\n",
    "df.head()"
   ]
  },
  {
   "cell_type": "code",
   "execution_count": 18,
   "id": "cb3dc927",
   "metadata": {},
   "outputs": [
    {
     "data": {
      "text/html": [
       "<div>\n",
       "<style scoped>\n",
       "    .dataframe tbody tr th:only-of-type {\n",
       "        vertical-align: middle;\n",
       "    }\n",
       "\n",
       "    .dataframe tbody tr th {\n",
       "        vertical-align: top;\n",
       "    }\n",
       "\n",
       "    .dataframe thead th {\n",
       "        text-align: right;\n",
       "    }\n",
       "</style>\n",
       "<table border=\"1\" class=\"dataframe\">\n",
       "  <thead>\n",
       "    <tr style=\"text-align: right;\">\n",
       "      <th></th>\n",
       "      <th>Sex</th>\n",
       "      <th>Equipment</th>\n",
       "      <th>Age</th>\n",
       "      <th>BodyweightKg</th>\n",
       "      <th>BestSquatKg</th>\n",
       "      <th>BestDeadliftKg</th>\n",
       "      <th>BestBenchKg</th>\n",
       "    </tr>\n",
       "  </thead>\n",
       "  <tbody>\n",
       "    <tr>\n",
       "      <th>0</th>\n",
       "      <td>1.0</td>\n",
       "      <td>0.0</td>\n",
       "      <td>23.0</td>\n",
       "      <td>87.30</td>\n",
       "      <td>205</td>\n",
       "      <td>235.0</td>\n",
       "      <td>125.0</td>\n",
       "    </tr>\n",
       "    <tr>\n",
       "      <th>1</th>\n",
       "      <td>1.0</td>\n",
       "      <td>1.0</td>\n",
       "      <td>23.0</td>\n",
       "      <td>73.48</td>\n",
       "      <td>220</td>\n",
       "      <td>260.0</td>\n",
       "      <td>157.5</td>\n",
       "    </tr>\n",
       "    <tr>\n",
       "      <th>2</th>\n",
       "      <td>1.0</td>\n",
       "      <td>0.0</td>\n",
       "      <td>26.0</td>\n",
       "      <td>112.40</td>\n",
       "      <td>142.5</td>\n",
       "      <td>220.0</td>\n",
       "      <td>145.0</td>\n",
       "    </tr>\n",
       "    <tr>\n",
       "      <th>3</th>\n",
       "      <td>0.0</td>\n",
       "      <td>0.0</td>\n",
       "      <td>35.0</td>\n",
       "      <td>59.42</td>\n",
       "      <td>95</td>\n",
       "      <td>102.5</td>\n",
       "      <td>60.0</td>\n",
       "    </tr>\n",
       "    <tr>\n",
       "      <th>4</th>\n",
       "      <td>0.0</td>\n",
       "      <td>0.0</td>\n",
       "      <td>26.5</td>\n",
       "      <td>61.40</td>\n",
       "      <td>105</td>\n",
       "      <td>127.5</td>\n",
       "      <td>60.0</td>\n",
       "    </tr>\n",
       "  </tbody>\n",
       "</table>\n",
       "</div>"
      ],
      "text/plain": [
       "   Sex  Equipment   Age  BodyweightKg BestSquatKg  BestDeadliftKg  BestBenchKg\n",
       "0  1.0        0.0  23.0         87.30         205           235.0        125.0\n",
       "1  1.0        1.0  23.0         73.48         220           260.0        157.5\n",
       "2  1.0        0.0  26.0        112.40       142.5           220.0        145.0\n",
       "3  0.0        0.0  35.0         59.42          95           102.5         60.0\n",
       "4  0.0        0.0  26.5         61.40         105           127.5         60.0"
      ]
     },
     "execution_count": 18,
     "metadata": {},
     "output_type": "execute_result"
    }
   ],
   "source": [
    "#encoding data ('Sex' and 'Equipment')\n",
    "from sklearn.preprocessing import OrdinalEncoder\n",
    "\n",
    "columns_to_encode = ['Sex', 'Equipment']\n",
    "encoder = OrdinalEncoder(\n",
    "    categories = [['F', 'M'],\n",
    "    ['Raw', 'Wraps', 'Single-ply', 'Multi-ply']]\n",
    ")\n",
    "\n",
    "\n",
    "df[columns_to_encode] = encoder.fit_transform(df[columns_to_encode])\n",
    "\n",
    "df.head()\n"
   ]
  },
  {
   "cell_type": "code",
   "execution_count": 19,
   "id": "7c57cc19",
   "metadata": {},
   "outputs": [],
   "source": [
    "#fixing non-float inputs / incorect format \n",
    "import numpy as np\n",
    "def fixing_format(column):\n",
    "    for index, row_value in df[column].items():\n",
    "        try:\n",
    "            df.loc[index, column] = np.abs(float(row_value))\n",
    "        except (TypeError, ValueError):\n",
    "            df.loc[index, column] = np.nan\n",
    "    return df\n",
    "fixing_format('BodyweightKg')\n",
    "fixing_format('BestSquatKg')\n",
    "fixing_format('BestDeadliftKg')\n",
    "fixing_format('BestBenchKg')\n",
    "\n",
    "df.dropna(inplace=True)\n",
    "\n",
    "#np.abs() added due to inocrrect data input as negative of value\n"
   ]
  },
  {
   "cell_type": "code",
   "execution_count": 20,
   "id": "971423a6",
   "metadata": {},
   "outputs": [],
   "source": [
    "#in visualisation outliers were detected that must be removed\n",
    "squat, deadlift, bench = df.iloc[:, 4], df.iloc[:, 5], df.iloc[:,6]\n",
    "\n",
    "#setting a standard for removing outliers \n",
    "squat_upper_lim, squat_lower_lim = np.mean(squat) + (np.std(squat)), np.mean(squat) - (np.std(squat))\n",
    "deadlift_upper_lim, deadlift_lower_lim = np.mean(deadlift) + (np.std(deadlift)), np.mean(deadlift) - (np.std(deadlift))\n",
    "bench_upper_lim, bench_lower_lim = np.mean(bench) + (np.std(bench)), np.mean(bench) - (np.std(bench))\n",
    "\n",
    "#removing outliers using bitwise boolean indexing\n",
    "df.drop(df[(df['BestBenchKg'] >= bench_upper_lim) & (df['BestSquatKg'] <= squat_lower_lim)].index, inplace = True)\n",
    "df.drop(df[(df['BestBenchKg'] <= bench_lower_lim) & (df['BestSquatKg'] >= squat_upper_lim)].index, inplace = True)\n",
    "df.drop(df[(df['BestBenchKg'] >= bench_upper_lim) & (df['BestDeadliftKg'] <= deadlift_lower_lim)].index, inplace = True)\n",
    "df.drop(df[(df['BestBenchKg'] <= bench_lower_lim) & (df['BestDeadliftKg'] >= deadlift_upper_lim)].index, inplace = True)\n",
    "\n",
    "df_clean = df #storing for later\n",
    "df.to_csv('clean_pl_data.csv', index=False)"
   ]
  },
  {
   "cell_type": "code",
   "execution_count": 21,
   "id": "eec28b83",
   "metadata": {},
   "outputs": [],
   "source": [
    "#setting the last column (benech) as the target \n",
    "X, y = df.iloc[:, : -1], df.iloc[:, -1]\n",
    "\n",
    "#splitting data\n",
    "X_train, X_test, y_train, y_test = train_test_split(X, y, test_size=0.2, random_state=10)"
   ]
  },
  {
   "cell_type": "code",
   "execution_count": 22,
   "id": "57d91f57",
   "metadata": {},
   "outputs": [],
   "source": [
    "#scaling data\n",
    "\n",
    "scaler = StandardScaler()\n",
    "X_train_scaled = scaler.fit_transform(X_train)\n",
    "X_test_scaled = scaler.transform(X_test)\n"
   ]
  },
  {
   "cell_type": "code",
   "execution_count": 26,
   "id": "8e2384c7",
   "metadata": {},
   "outputs": [
    {
     "name": "stderr",
     "output_type": "stream",
     "text": [
      "c:\\Users\\SJane\\OneDrive\\Programming\\ML_Project\\venv\\Lib\\site-packages\\sklearn\\utils\\validation.py:2749: UserWarning: X does not have valid feature names, but StandardScaler was fitted with feature names\n",
      "  warnings.warn(\n"
     ]
    },
    {
     "data": {
      "text/plain": [
       "array([45.94063513])"
      ]
     },
     "execution_count": 26,
     "metadata": {},
     "output_type": "execute_result"
    }
   ],
   "source": [
    "#training the model\n",
    "\n",
    "Reg_All_Features = LinearRegression()\n",
    "\n",
    "Reg_All_Features.fit(X_train_scaled, y_train)\n",
    "\n",
    "joblib.dump(Reg_All_Features, 'Reg_All_Features.joblib') #saving the model\n",
    "\n",
    "Reg_All_Features.predict(scaler.transform([[0, 0, 19, 53, 95, 110]]))"
   ]
  },
  {
   "cell_type": "markdown",
   "id": "10834d62",
   "metadata": {},
   "source": [
    "The models are scored in 'evaluating_models.ipynb' <br>\n",
    "Now only sex, squat amd deadlift features will be used."
   ]
  },
  {
   "cell_type": "code",
   "execution_count": 28,
   "id": "d9f60029",
   "metadata": {},
   "outputs": [
    {
     "data": {
      "text/html": [
       "<div>\n",
       "<style scoped>\n",
       "    .dataframe tbody tr th:only-of-type {\n",
       "        vertical-align: middle;\n",
       "    }\n",
       "\n",
       "    .dataframe tbody tr th {\n",
       "        vertical-align: top;\n",
       "    }\n",
       "\n",
       "    .dataframe thead th {\n",
       "        text-align: right;\n",
       "    }\n",
       "</style>\n",
       "<table border=\"1\" class=\"dataframe\">\n",
       "  <thead>\n",
       "    <tr style=\"text-align: right;\">\n",
       "      <th></th>\n",
       "      <th>Sex</th>\n",
       "      <th>BestSquatKg</th>\n",
       "      <th>BestDeadliftKg</th>\n",
       "      <th>BestBenchKg</th>\n",
       "    </tr>\n",
       "  </thead>\n",
       "  <tbody>\n",
       "    <tr>\n",
       "      <th>0</th>\n",
       "      <td>1.0</td>\n",
       "      <td>205.0</td>\n",
       "      <td>235.0</td>\n",
       "      <td>125.0</td>\n",
       "    </tr>\n",
       "    <tr>\n",
       "      <th>1</th>\n",
       "      <td>1.0</td>\n",
       "      <td>220.0</td>\n",
       "      <td>260.0</td>\n",
       "      <td>157.5</td>\n",
       "    </tr>\n",
       "    <tr>\n",
       "      <th>2</th>\n",
       "      <td>1.0</td>\n",
       "      <td>142.5</td>\n",
       "      <td>220.0</td>\n",
       "      <td>145.0</td>\n",
       "    </tr>\n",
       "    <tr>\n",
       "      <th>3</th>\n",
       "      <td>0.0</td>\n",
       "      <td>95.0</td>\n",
       "      <td>102.5</td>\n",
       "      <td>60.0</td>\n",
       "    </tr>\n",
       "    <tr>\n",
       "      <th>4</th>\n",
       "      <td>0.0</td>\n",
       "      <td>105.0</td>\n",
       "      <td>127.5</td>\n",
       "      <td>60.0</td>\n",
       "    </tr>\n",
       "  </tbody>\n",
       "</table>\n",
       "</div>"
      ],
      "text/plain": [
       "   Sex BestSquatKg  BestDeadliftKg  BestBenchKg\n",
       "0  1.0       205.0           235.0        125.0\n",
       "1  1.0       220.0           260.0        157.5\n",
       "2  1.0       142.5           220.0        145.0\n",
       "3  0.0        95.0           102.5         60.0\n",
       "4  0.0       105.0           127.5         60.0"
      ]
     },
     "execution_count": 28,
     "metadata": {},
     "output_type": "execute_result"
    }
   ],
   "source": [
    "#loading data as clean data frame stored from before\n",
    "df = df_clean\n",
    "#getting rid of irrelevant freatures ('playerId' and 'Name')\n",
    "df = df.iloc[:, [0,4,5,6]]\n",
    "df.head()"
   ]
  },
  {
   "cell_type": "code",
   "execution_count": 29,
   "id": "6b7a8516",
   "metadata": {},
   "outputs": [
    {
     "data": {
      "text/html": [
       "<div>\n",
       "<style scoped>\n",
       "    .dataframe tbody tr th:only-of-type {\n",
       "        vertical-align: middle;\n",
       "    }\n",
       "\n",
       "    .dataframe tbody tr th {\n",
       "        vertical-align: top;\n",
       "    }\n",
       "\n",
       "    .dataframe thead th {\n",
       "        text-align: right;\n",
       "    }\n",
       "</style>\n",
       "<table border=\"1\" class=\"dataframe\">\n",
       "  <thead>\n",
       "    <tr style=\"text-align: right;\">\n",
       "      <th></th>\n",
       "      <th>Sex</th>\n",
       "      <th>BestSquatKg</th>\n",
       "      <th>BestDeadliftKg</th>\n",
       "    </tr>\n",
       "  </thead>\n",
       "  <tbody>\n",
       "    <tr>\n",
       "      <th>17619</th>\n",
       "      <td>0.0</td>\n",
       "      <td>180.0</td>\n",
       "      <td>187.5</td>\n",
       "    </tr>\n",
       "    <tr>\n",
       "      <th>11670</th>\n",
       "      <td>1.0</td>\n",
       "      <td>185.0</td>\n",
       "      <td>202.5</td>\n",
       "    </tr>\n",
       "    <tr>\n",
       "      <th>13152</th>\n",
       "      <td>1.0</td>\n",
       "      <td>217.5</td>\n",
       "      <td>240.0</td>\n",
       "    </tr>\n",
       "    <tr>\n",
       "      <th>6456</th>\n",
       "      <td>1.0</td>\n",
       "      <td>255.0</td>\n",
       "      <td>270.0</td>\n",
       "    </tr>\n",
       "    <tr>\n",
       "      <th>11227</th>\n",
       "      <td>1.0</td>\n",
       "      <td>170.0</td>\n",
       "      <td>210.0</td>\n",
       "    </tr>\n",
       "    <tr>\n",
       "      <th>...</th>\n",
       "      <td>...</td>\n",
       "      <td>...</td>\n",
       "      <td>...</td>\n",
       "    </tr>\n",
       "    <tr>\n",
       "      <th>9488</th>\n",
       "      <td>0.0</td>\n",
       "      <td>220.0</td>\n",
       "      <td>247.5</td>\n",
       "    </tr>\n",
       "    <tr>\n",
       "      <th>7381</th>\n",
       "      <td>1.0</td>\n",
       "      <td>307.5</td>\n",
       "      <td>317.5</td>\n",
       "    </tr>\n",
       "    <tr>\n",
       "      <th>17932</th>\n",
       "      <td>1.0</td>\n",
       "      <td>190.0</td>\n",
       "      <td>225.0</td>\n",
       "    </tr>\n",
       "    <tr>\n",
       "      <th>7383</th>\n",
       "      <td>1.0</td>\n",
       "      <td>245.0</td>\n",
       "      <td>245.0</td>\n",
       "    </tr>\n",
       "    <tr>\n",
       "      <th>17877</th>\n",
       "      <td>1.0</td>\n",
       "      <td>232.5</td>\n",
       "      <td>310.0</td>\n",
       "    </tr>\n",
       "  </tbody>\n",
       "</table>\n",
       "<p>14947 rows × 3 columns</p>\n",
       "</div>"
      ],
      "text/plain": [
       "       Sex BestSquatKg  BestDeadliftKg\n",
       "17619  0.0       180.0           187.5\n",
       "11670  1.0       185.0           202.5\n",
       "13152  1.0       217.5           240.0\n",
       "6456   1.0       255.0           270.0\n",
       "11227  1.0       170.0           210.0\n",
       "...    ...         ...             ...\n",
       "9488   0.0       220.0           247.5\n",
       "7381   1.0       307.5           317.5\n",
       "17932  1.0       190.0           225.0\n",
       "7383   1.0       245.0           245.0\n",
       "17877  1.0       232.5           310.0\n",
       "\n",
       "[14947 rows x 3 columns]"
      ]
     },
     "execution_count": 29,
     "metadata": {},
     "output_type": "execute_result"
    }
   ],
   "source": [
    "#setting the last column (benech) as the target \n",
    "X, y = df.iloc[:, : -1], df.iloc[:, -1]\n",
    "\n",
    "#splitting data\n",
    "X_train, X_test, y_train, y_test = train_test_split(X, y, test_size=0.2, random_state=10)\n",
    "X_train"
   ]
  },
  {
   "cell_type": "code",
   "execution_count": 30,
   "id": "1dba5fb2",
   "metadata": {},
   "outputs": [],
   "source": [
    "#using pipline to scale and train data\n",
    "from sklearn.pipeline import Pipeline\n",
    "\n",
    "Pipe = Pipeline([\n",
    "    ('scale', StandardScaler()),\n",
    "    ('regressor', LinearRegression())\n",
    "])\n",
    "\n",
    "Pipe.fit(X_train, y_train)\n",
    "Reg_Squat_Dead = Pipe"
   ]
  },
  {
   "cell_type": "code",
   "execution_count": 31,
   "id": "18bd80e6",
   "metadata": {},
   "outputs": [
    {
     "data": {
      "text/plain": [
       "['Reg_Squat_Dead.joblib']"
      ]
     },
     "execution_count": 31,
     "metadata": {},
     "output_type": "execute_result"
    }
   ],
   "source": [
    "#saving model\n",
    "joblib.dump(Pipe, 'Reg_Squat_Dead.joblib') #saving the model\n"
   ]
  },
  {
   "cell_type": "markdown",
   "id": "d3277105",
   "metadata": {},
   "source": [
    "Now adding bodyweight feature and using KNN Regression"
   ]
  },
  {
   "cell_type": "code",
   "execution_count": 33,
   "id": "2a90db44",
   "metadata": {},
   "outputs": [
    {
     "data": {
      "text/plain": [
       "['KNN_BW_Squat_Dead.joblib']"
      ]
     },
     "execution_count": 33,
     "metadata": {},
     "output_type": "execute_result"
    }
   ],
   "source": [
    "from sklearn.neighbors import KNeighborsRegressor\n",
    "\n",
    "df = df_clean\n",
    "df = df.iloc[:, [0,3,4,5,6]]\n",
    "#setting target\n",
    "X, y = df.iloc[:, : -1], df.iloc[:, -1]\n",
    "\n",
    "#splitting data\n",
    "X_train, X_test, y_train, y_test = train_test_split(X, y, test_size=0.2, random_state=10)\n",
    "\n",
    "#scaling and training\n",
    "Pipe = Pipeline([\n",
    "    ('scale', StandardScaler()),\n",
    "    ('regressor', KNeighborsRegressor())\n",
    "])\n",
    "\n",
    "Pipe.fit(X_train, y_train)\n",
    "\n",
    "joblib.dump(Pipe, 'KNN_BW_Squat_Dead.joblib') #saving the model"
   ]
  },
  {
   "cell_type": "markdown",
   "id": "48718823",
   "metadata": {},
   "source": [
    "Now age, deadlift and squat with Random Forest Regression"
   ]
  },
  {
   "cell_type": "code",
   "execution_count": 34,
   "id": "8ef68d6f",
   "metadata": {},
   "outputs": [
    {
     "data": {
      "text/plain": [
       "['Forest_Age_Squat_Dead.joblib']"
      ]
     },
     "execution_count": 34,
     "metadata": {},
     "output_type": "execute_result"
    }
   ],
   "source": [
    "from sklearn.ensemble import RandomForestRegressor\n",
    "from sklearn.ensemble import RandomForestRegressor\n",
    "df = df_clean\n",
    "df = df.iloc[:, [0,2,4,5,6]]\n",
    "#setting target\n",
    "X, y = df.iloc[:, : -1], df.iloc[:, -1]\n",
    "\n",
    "#splitting data\n",
    "X_train, X_test, y_train, y_test = train_test_split(X, y, test_size=0.2, random_state=10)\n",
    "\n",
    "#scaling and training\n",
    "Pipe = Pipeline([\n",
    "    ('scale', StandardScaler()),\n",
    "    ('classifier', RandomForestRegressor())\n",
    "])\n",
    "\n",
    "Pipe.fit(X_train, y_train)\n",
    "\n",
    "joblib.dump(Pipe, 'Forest_Age_Squat_Dead.joblib') #saving the model"
   ]
  },
  {
   "cell_type": "markdown",
   "id": "9dfe0b05",
   "metadata": {},
   "source": [
    "Now equioment squat and deadlift"
   ]
  },
  {
   "cell_type": "code",
   "execution_count": 35,
   "id": "dadb310f",
   "metadata": {},
   "outputs": [
    {
     "data": {
      "text/plain": [
       "['Equipment_Squat_Dead.joblib']"
      ]
     },
     "execution_count": 35,
     "metadata": {},
     "output_type": "execute_result"
    }
   ],
   "source": [
    "df = df_clean\n",
    "df = df.iloc[:, [0,1,4,5,6]]\n",
    "df.head()\n",
    "#setting target\n",
    "X, y = df.iloc[:, : -1], df.iloc[:, -1]\n",
    "\n",
    "#splitting data\n",
    "X_train, X_test, y_train, y_test = train_test_split(X, y, test_size=0.2, random_state=10)\n",
    "\n",
    "#scaling and training\n",
    "Pipe = Pipeline([\n",
    "    ('scale', StandardScaler()),\n",
    "    ('classifier', RandomForestRegressor())\n",
    "])\n",
    "\n",
    "Pipe.fit(X_train, y_train)\n",
    "\n",
    "joblib.dump(Pipe, 'Equipment_Squat_Dead.joblib') #saving the model"
   ]
  },
  {
   "cell_type": "code",
   "execution_count": null,
   "id": "0778e2dd",
   "metadata": {},
   "outputs": [],
   "source": []
  }
 ],
 "metadata": {
  "kernelspec": {
   "display_name": "venv",
   "language": "python",
   "name": "python3"
  },
  "language_info": {
   "codemirror_mode": {
    "name": "ipython",
    "version": 3
   },
   "file_extension": ".py",
   "mimetype": "text/x-python",
   "name": "python",
   "nbconvert_exporter": "python",
   "pygments_lexer": "ipython3",
   "version": "3.13.5"
  }
 },
 "nbformat": 4,
 "nbformat_minor": 5
}
