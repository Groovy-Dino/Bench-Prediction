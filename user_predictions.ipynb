{
 "cells": [
  {
   "cell_type": "markdown",
   "id": "d8ca93ae",
   "metadata": {},
   "source": [
    "User Input Predictions"
   ]
  },
  {
   "cell_type": "code",
   "execution_count": 109,
   "id": "f3b66a88",
   "metadata": {},
   "outputs": [],
   "source": [
    "import joblib\n",
    "import pandas as pd\n",
    "from sklearn.model_selection import train_test_split\n",
    "from sklearn.preprocessing import StandardScaler\n",
    "Reg_All_Features = joblib.load('Reg_All_Features.joblib')\n",
    "Reg_Squat_Dead = joblib.load('Reg_Squat_Dead.joblib')\n",
    "KNN_BW_Squat_Dead = joblib.load('KNN_BW_Squat_Dead.joblib')\n",
    "Forest_Age_Squat_Dead = joblib.load('Forest_Age_Squat_Dead.joblib')\n",
    "Equipment_Squat_Dead = joblib.load('Equipment_Squat_Dead.joblib')"
   ]
  },
  {
   "cell_type": "code",
   "execution_count": 117,
   "id": "0fc01839",
   "metadata": {},
   "outputs": [],
   "source": [
    "#user input\n",
    "user_input = []\n",
    "#adding the sex\n",
    "while len(user_input) == 0:\n",
    "    sex = input(\"Please inpute your sex Male [M] or Female [F]: \")\n",
    "    if sex.upper() == 'F':\n",
    "        user_input.append(float(0))\n",
    "    elif sex.upper() == 'M':\n",
    "        user_input.append(float(1))\n",
    "    else:\n",
    "        print(f\"{sex} is not a valid input.\")\n",
    "#adding equipment    \n",
    "while len(user_input) == 1:\n",
    "    equipment = input(\"Please input equipment Raw [R], Wraps [W], Single-ply [S] or Multiply [M]: \")\n",
    "    if equipment.upper() == 'R':\n",
    "        user_input.append(float(0))\n",
    "    elif equipment.upper() == 'W':\n",
    "        user_input.append(float(1))\n",
    "    elif equipment.upper() == 'S':\n",
    "        user_input.append(float(2))\n",
    "    elif equipment.upper() == 'M':\n",
    "        user_input.append(float(1))\n",
    "    else:\n",
    "        print(f\"{equipment} is not a valid input.\")\n",
    "\n",
    "#adding age\n",
    "while len(user_input) == 2:\n",
    "    age = input(\"Please input age in years: \")\n",
    "    try:\n",
    "        user_input.append(float(age))\n",
    "    except (TypeError, ValueError):\n",
    "        print(f\"{age} is not a valid input.\")\n",
    "\n",
    "#adding bodyweight\n",
    "while len(user_input) == 3:\n",
    "    BW = input(\"Please input bodyweight in Kg: \")\n",
    "    try:\n",
    "        user_input.append(float(BW))\n",
    "    except (TypeError, ValueError):\n",
    "        print(f\"{BW} is not a valid input.\")\n",
    "\n",
    "#adding squat\n",
    "while len(user_input) == 4:\n",
    "    Squat = input(\"Please input your best squat in Kg: \")\n",
    "    try:\n",
    "        user_input.append(float(Squat))\n",
    "    except (TypeError, ValueError):\n",
    "        print(f\"{Squat} is not a valid input.\")\n",
    "\n",
    "#adding deadlift\n",
    "while len(user_input) == 5:\n",
    "    Dead = input(\"Please input best deadlift in Kg: \")\n",
    "    try:\n",
    "        user_input.append(float(Dead))\n",
    "    except (TypeError, ValueError):\n",
    "        print(f\"{Dead} is not a valid input.\")"
   ]
  },
  {
   "cell_type": "code",
   "execution_count": 118,
   "id": "1f305955",
   "metadata": {},
   "outputs": [
    {
     "name": "stdout",
     "output_type": "stream",
     "text": [
      "[1.0, 0.0, 19.0, 72.0, 150.0, 180.0]\n"
     ]
    }
   ],
   "source": [
    "df = pd.read_csv('clean_pl_data.csv')\n",
    "X, y = df.iloc[:, : -1], df.iloc[:, -1]\n",
    "X_train, X_test, y_train, y_test = train_test_split(X, y, test_size=0.2, random_state=10)\n",
    "\n",
    "stored_input = user_input\n",
    "print(stored_input)"
   ]
  },
  {
   "cell_type": "code",
   "execution_count": 123,
   "id": "3e6fe289",
   "metadata": {},
   "outputs": [
    {
     "name": "stdout",
     "output_type": "stream",
     "text": [
      "[[  1.   0.  19.  72. 150. 180.]]\n",
      "[95.04603175]\n"
     ]
    },
    {
     "name": "stderr",
     "output_type": "stream",
     "text": [
      "c:\\Users\\SJane\\OneDrive\\Programming\\ML_Project\\venv\\Lib\\site-packages\\sklearn\\utils\\validation.py:2749: UserWarning: X does not have valid feature names, but StandardScaler was fitted with feature names\n",
      "  warnings.warn(\n"
     ]
    }
   ],
   "source": [
    "import numpy as np\n",
    "model_selection = input(f\"Select the model you would like to use to predict your bench press [1 Reg_All_Features, 2 Reg_Squat_Dead, 3 KNN_BW_Squat_Dead, 4 Forest_Age_Squat_Dead, 5 Equipment_Squat_Dead]: \")\n",
    "model_dict = {\n",
    "    '1' : Reg_All_Features,\n",
    "    '2' : Reg_Squat_Dead,\n",
    "    '3' : KNN_BW_Squat_Dead,\n",
    "    '4' : Forest_Age_Squat_Dead,\n",
    "    '5' : Equipment_Squat_Dead \n",
    "}\n",
    "user_input = np.array(stored_input).reshape(1, -1)\n",
    "print(user_input)\n",
    "def prediction(user_input, model_selection):\n",
    "    scaler = StandardScaler()\n",
    "    model = model_dict[model_selection]\n",
    "\n",
    "    if model_selection == '1':\n",
    "        scaler = StandardScaler()\n",
    "        X_train_scaled = scaler.fit_transform(X_train, y_train)\n",
    "        user_input = scaler.transform(user_input)\n",
    "        model.fit(X_train_scaled, y_train)\n",
    "        return model.predict(user_input)\n",
    "    \n",
    "    elif model_selection == '2':\n",
    "        X_train_subset = X_train[['Sex','BestSquatKg', 'BestDeadliftKg']]\n",
    "        user_input_subset = user_input[:, [0,4,5]]\n",
    "        model.fit(X_train_subset, y_train)\n",
    "        return model.predict(user_input_subset)\n",
    "    \n",
    "    elif model_selection == '3':\n",
    "        X_train_subset = X_train[['Sex','BodyweightKg','BestSquatKg', 'BestDeadliftKg']]\n",
    "        user_input_subset = user_input[:, [0,3,4,5]]\n",
    "        model.fit(X_train_subset, y_train)\n",
    "        return model.predict(user_input_subset)\n",
    "    \n",
    "    elif model_selection == '4':\n",
    "        X_train_subset = X_train[['Sex','Age','BestSquatKg', 'BestDeadliftKg']]\n",
    "        user_input_subset = np.array([user_input[0,0],user_input[0,2], user_input[0,4], user_input[0,5]]).reshape(1, -1)\n",
    "        model.fit(X_train_subset, y_train)\n",
    "        return model.predict(user_input_subset)\n",
    "    \n",
    "    elif model_selection == '5':\n",
    "        X_train_subset = X_train[['Sex','Equipment','BestSquatKg', 'BestDeadliftKg']]\n",
    "        user_input_subset = np.array([[user_input[0,0],user_input[0,1], user_input[0,4], user_input[0,5]]]).reshape(1,-1)\n",
    "        model.fit(X_train_subset, y_train)\n",
    "        return model.predict(user_input_subset)    \n",
    "\n",
    "print(prediction(user_input, model_selection))"
   ]
  }
 ],
 "metadata": {
  "kernelspec": {
   "display_name": "venv",
   "language": "python",
   "name": "python3"
  },
  "language_info": {
   "codemirror_mode": {
    "name": "ipython",
    "version": 3
   },
   "file_extension": ".py",
   "mimetype": "text/x-python",
   "name": "python",
   "nbconvert_exporter": "python",
   "pygments_lexer": "ipython3",
   "version": "3.13.5"
  }
 },
 "nbformat": 4,
 "nbformat_minor": 5
}
